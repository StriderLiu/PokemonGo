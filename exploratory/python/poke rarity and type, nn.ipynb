{
 "cells": [
  {
   "cell_type": "code",
   "execution_count": 71,
   "metadata": {
    "collapsed": false
   },
   "outputs": [],
   "source": [
    "import pandas as pd\n",
    "import numpy as np\n",
    "from sklearn.neural_network import MLPClassifier\n",
    "from sklearn.model_selection import train_test_split\n",
    "from sklearn.metrics import accuracy_score"
   ]
  },
  {
   "cell_type": "code",
   "execution_count": 2,
   "metadata": {
    "collapsed": false
   },
   "outputs": [],
   "source": [
    "poke=pd.read_csv(\"/Users/Shuxian/Documents/CSYE7200-Fall2016/predictemall/poke/poke_us.csv\",header=0,low_memory=False)"
   ]
  },
  {
   "cell_type": "code",
   "execution_count": 3,
   "metadata": {
    "collapsed": false
   },
   "outputs": [],
   "source": [
    "poke=poke[poke['pokestopDistanceKm'] !=\"?\"]"
   ]
  },
  {
   "cell_type": "code",
   "execution_count": 6,
   "metadata": {
    "collapsed": true
   },
   "outputs": [],
   "source": [
    "train,test=train_test_split(poke,test_size=0.2, random_state=0)"
   ]
  },
  {
   "cell_type": "code",
   "execution_count": 7,
   "metadata": {
    "collapsed": true
   },
   "outputs": [],
   "source": [
    "clf = MLPClassifier(solver='lbfgs', alpha=1e-5, hidden_layer_sizes=(10, 10), random_state=1)"
   ]
  },
  {
   "cell_type": "code",
   "execution_count": 12,
   "metadata": {
    "collapsed": false
   },
   "outputs": [],
   "source": [
    "X_train=train[train.columns[1:]]\n",
    "y_train=train[train.columns[0]]"
   ]
  },
  {
   "cell_type": "code",
   "execution_count": 15,
   "metadata": {
    "collapsed": true
   },
   "outputs": [],
   "source": [
    "X_test=test[test.columns[1:]]\n",
    "y_test=test[test.columns[0]]"
   ]
  },
  {
   "cell_type": "code",
   "execution_count": 14,
   "metadata": {
    "collapsed": false
   },
   "outputs": [
    {
     "data": {
      "text/plain": [
       "MLPClassifier(activation='relu', alpha=1e-05, batch_size='auto', beta_1=0.9,\n",
       "       beta_2=0.999, early_stopping=False, epsilon=1e-08,\n",
       "       hidden_layer_sizes=(10, 10), learning_rate='constant',\n",
       "       learning_rate_init=0.001, max_iter=200, momentum=0.9,\n",
       "       nesterovs_momentum=True, power_t=0.5, random_state=1, shuffle=True,\n",
       "       solver='lbfgs', tol=0.0001, validation_fraction=0.1, verbose=False,\n",
       "       warm_start=False)"
      ]
     },
     "execution_count": 14,
     "metadata": {},
     "output_type": "execute_result"
    }
   ],
   "source": [
    "clf.fit(X_train,y_train)"
   ]
  },
  {
   "cell_type": "code",
   "execution_count": 16,
   "metadata": {
    "collapsed": true
   },
   "outputs": [],
   "source": [
    "y_pred=clf.predict(X_test)"
   ]
  },
  {
   "cell_type": "code",
   "execution_count": 19,
   "metadata": {
    "collapsed": false
   },
   "outputs": [
    {
     "data": {
      "text/plain": [
       "0.17499481650425047"
      ]
     },
     "execution_count": 19,
     "metadata": {},
     "output_type": "execute_result"
    }
   ],
   "source": [
    "accuracy_score(y_test, y_pred)"
   ]
  },
  {
   "cell_type": "code",
   "execution_count": 21,
   "metadata": {
    "collapsed": true
   },
   "outputs": [],
   "source": [
    "from sklearn.ensemble import RandomForestClassifier\n",
    "from sklearn.model_selection import cross_val_score"
   ]
  },
  {
   "cell_type": "code",
   "execution_count": 27,
   "metadata": {
    "collapsed": false
   },
   "outputs": [
    {
     "name": "stderr",
     "output_type": "stream",
     "text": [
      "/Users/Shuxian/anaconda/lib/python3.5/site-packages/sklearn/model_selection/_split.py:581: Warning: The least populated class in y has only 1 members, which is too few. The minimum number of groups for any class cannot be less than n_splits=3.\n",
      "  % (min_groups, self.n_splits)), Warning)\n"
     ]
    }
   ],
   "source": [
    "scores = cross_val_score(clf, X_train, y_train)"
   ]
  },
  {
   "cell_type": "code",
   "execution_count": 25,
   "metadata": {
    "collapsed": false,
    "scrolled": true
   },
   "outputs": [
    {
     "data": {
      "text/plain": [
       "array([ 0.1747205 ,  0.17496112,  0.17517907])"
      ]
     },
     "execution_count": 25,
     "metadata": {},
     "output_type": "execute_result"
    }
   ],
   "source": [
    "scores"
   ]
  },
  {
   "cell_type": "code",
   "execution_count": 32,
   "metadata": {
    "collapsed": true
   },
   "outputs": [],
   "source": [
    "from sklearn.multiclass import OneVsRestClassifier"
   ]
  },
  {
   "cell_type": "code",
   "execution_count": 35,
   "metadata": {
    "collapsed": false
   },
   "outputs": [],
   "source": [
    "ovall=OneVsRestClassifier(clf).fit(X_train, y_train)"
   ]
  },
  {
   "cell_type": "code",
   "execution_count": 36,
   "metadata": {
    "collapsed": true
   },
   "outputs": [],
   "source": [
    "y_pred=ovall.predict(X_test)"
   ]
  },
  {
   "cell_type": "code",
   "execution_count": 37,
   "metadata": {
    "collapsed": false,
    "scrolled": true
   },
   "outputs": [
    {
     "data": {
      "text/plain": [
       "0.16852581380883266"
      ]
     },
     "execution_count": 37,
     "metadata": {},
     "output_type": "execute_result"
    }
   ],
   "source": [
    "accuracy_score(y_test, y_pred)"
   ]
  },
  {
   "cell_type": "markdown",
   "metadata": {},
   "source": [
    "# Optimization \"RARITY and TYPE\""
   ]
  },
  {
   "cell_type": "markdown",
   "metadata": {},
   "source": [
    "## Rarity"
   ]
  },
  {
   "cell_type": "code",
   "execution_count": 9,
   "metadata": {
    "collapsed": false
   },
   "outputs": [],
   "source": [
    "poke=pd.read_csv(\"/Users/Shuxian/Documents/CSYE7200-Fall2016/predictemall/poke/poke_us.csv\",header=0,low_memory=False)\n",
    "poke=poke[poke['pokestopDistanceKm'] !=\"?\"]"
   ]
  },
  {
   "cell_type": "code",
   "execution_count": 10,
   "metadata": {
    "collapsed": true
   },
   "outputs": [],
   "source": [
    "rareId = [1,2,4,5,7,8,9,12,15,18,22,24,25,28,30,33,36,38,40,44,45,47,49,51,53,55,57,58,61,\n",
    "          63,64,67,70,73,75,78,80,82,83,85,87,88,91,93,94,95,97,99,101,103,105,106,107,110,111,117,119,121,123,124,\n",
    "          125,126,127,128,133,138,140,147]\n",
    "          \n",
    "veryRareId = [3,6,9,26,31,34,59,62,65,68,71,76,83,89,108,112,113,114,115,122,130,131,132,134,135,136,137,139,141,142\n",
    "              ,143,144,145,146,148,148,149,150,151]"
   ]
  },
  {
   "cell_type": "code",
   "execution_count": 11,
   "metadata": {
    "collapsed": false,
    "scrolled": true
   },
   "outputs": [
    {
     "name": "stderr",
     "output_type": "stream",
     "text": [
      "/Users/Shuxian/anaconda/lib/python3.5/site-packages/ipykernel/__main__.py:2: SettingWithCopyWarning: \n",
      "A value is trying to be set on a copy of a slice from a DataFrame.\n",
      "Try using .loc[row_indexer,col_indexer] = value instead\n",
      "\n",
      "See the caveats in the documentation: http://pandas.pydata.org/pandas-docs/stable/indexing.html#indexing-view-versus-copy\n",
      "  from ipykernel import kernelapp as app\n"
     ]
    }
   ],
   "source": [
    "rare=poke.loc[poke['class'].isin(rareId)]\n",
    "rare['rarity']='1'"
   ]
  },
  {
   "cell_type": "code",
   "execution_count": 12,
   "metadata": {
    "collapsed": false
   },
   "outputs": [
    {
     "name": "stderr",
     "output_type": "stream",
     "text": [
      "/Users/Shuxian/anaconda/lib/python3.5/site-packages/ipykernel/__main__.py:2: SettingWithCopyWarning: \n",
      "A value is trying to be set on a copy of a slice from a DataFrame.\n",
      "Try using .loc[row_indexer,col_indexer] = value instead\n",
      "\n",
      "See the caveats in the documentation: http://pandas.pydata.org/pandas-docs/stable/indexing.html#indexing-view-versus-copy\n",
      "  from ipykernel import kernelapp as app\n"
     ]
    }
   ],
   "source": [
    "veryrare=poke.loc[poke['class'].isin(veryRareId)]\n",
    "veryrare['rarity']='2'"
   ]
  },
  {
   "cell_type": "code",
   "execution_count": 13,
   "metadata": {
    "collapsed": false
   },
   "outputs": [],
   "source": [
    "uncommonId=rareId+veryRareId"
   ]
  },
  {
   "cell_type": "code",
   "execution_count": 14,
   "metadata": {
    "collapsed": false
   },
   "outputs": [
    {
     "data": {
      "text/plain": [
       "39"
      ]
     },
     "execution_count": 14,
     "metadata": {},
     "output_type": "execute_result"
    }
   ],
   "source": [
    "len(veryRareId)"
   ]
  },
  {
   "cell_type": "code",
   "execution_count": 15,
   "metadata": {
    "collapsed": false
   },
   "outputs": [
    {
     "data": {
      "text/plain": [
       "68"
      ]
     },
     "execution_count": 15,
     "metadata": {},
     "output_type": "execute_result"
    }
   ],
   "source": [
    "len(rareId)"
   ]
  },
  {
   "cell_type": "markdown",
   "metadata": {
    "collapsed": true
   },
   "source": [
    "uncommon=poke.loc[poke['class'].isin(uncommonId)]"
   ]
  },
  {
   "cell_type": "markdown",
   "metadata": {
    "collapsed": true
   },
   "source": [
    "uncommon.to_csv(\"/Users/Shuxian/Documents/CSYE7200-Fall2016/predictemall/poke/uncommon_poke.csv\",index=False)"
   ]
  },
  {
   "cell_type": "code",
   "execution_count": 16,
   "metadata": {
    "collapsed": false
   },
   "outputs": [],
   "source": [
    "commonId=list(set(poke['class'].unique())-set(uncommonId))"
   ]
  },
  {
   "cell_type": "code",
   "execution_count": 17,
   "metadata": {
    "collapsed": false,
    "scrolled": true
   },
   "outputs": [
    {
     "name": "stderr",
     "output_type": "stream",
     "text": [
      "/Users/Shuxian/anaconda/lib/python3.5/site-packages/ipykernel/__main__.py:2: SettingWithCopyWarning: \n",
      "A value is trying to be set on a copy of a slice from a DataFrame.\n",
      "Try using .loc[row_indexer,col_indexer] = value instead\n",
      "\n",
      "See the caveats in the documentation: http://pandas.pydata.org/pandas-docs/stable/indexing.html#indexing-view-versus-copy\n",
      "  from ipykernel import kernelapp as app\n"
     ]
    }
   ],
   "source": [
    "common=poke.loc[poke['class'].isin(commonId)]\n",
    "common['rarity']='0'"
   ]
  },
  {
   "cell_type": "code",
   "execution_count": 18,
   "metadata": {
    "collapsed": false
   },
   "outputs": [],
   "source": [
    "# concatenate rare, veryrare and common\n",
    "newpoke=pd.concat([rare,veryrare,common])"
   ]
  },
  {
   "cell_type": "code",
   "execution_count": 19,
   "metadata": {
    "collapsed": false
   },
   "outputs": [],
   "source": [
    "# randomize data\n",
    "newpoke=newpoke.iloc[np.random.permutation(len(newpoke))].reset_index(drop=True)"
   ]
  },
  {
   "cell_type": "markdown",
   "metadata": {},
   "source": [
    "### use pokemonGo data to find pokemon main type"
   ]
  },
  {
   "cell_type": "code",
   "execution_count": 72,
   "metadata": {
    "collapsed": false
   },
   "outputs": [],
   "source": [
    "poketype=pd.read_csv(\"/Users/Shuxian/Documents/CSYE7200-Fall2016/predictemall/pokemonGO.csv\",header=0)"
   ]
  },
  {
   "cell_type": "code",
   "execution_count": 22,
   "metadata": {
    "collapsed": false
   },
   "outputs": [],
   "source": [
    "poketype.set_index(poketype['Pokemon No.'], drop=True, append=False, inplace=True, verify_integrity=True)"
   ]
  },
  {
   "cell_type": "code",
   "execution_count": 23,
   "metadata": {
    "collapsed": false
   },
   "outputs": [],
   "source": [
    "poketype.drop(poketype.columns[[0,1,3,4,5,6]],axis=1,inplace=True)"
   ]
  },
  {
   "cell_type": "code",
   "execution_count": 24,
   "metadata": {
    "collapsed": false
   },
   "outputs": [],
   "source": [
    "pokedict=poketype.to_dict(orient='dict')['Type 1']"
   ]
  },
  {
   "cell_type": "code",
   "execution_count": 25,
   "metadata": {
    "collapsed": false
   },
   "outputs": [],
   "source": [
    "type=[]\n",
    "for x in newpoke['class']:\n",
    "    type.append(pokedict.get(x))"
   ]
  },
  {
   "cell_type": "code",
   "execution_count": 26,
   "metadata": {
    "collapsed": false
   },
   "outputs": [],
   "source": [
    "newpoke['type']=type"
   ]
  },
  {
   "cell_type": "markdown",
   "metadata": {
    "collapsed": false
   },
   "source": [
    "newpoke.drop('type',axis=1,inplace=True)"
   ]
  },
  {
   "cell_type": "code",
   "execution_count": 70,
   "metadata": {
    "collapsed": false
   },
   "outputs": [
    {
     "data": {
      "text/plain": [
       "['Bug',\n",
       " 'Dragon',\n",
       " 'Electric',\n",
       " 'Fairy',\n",
       " 'Fighting',\n",
       " 'Fire',\n",
       " 'Ghost',\n",
       " 'Grass',\n",
       " 'Ground',\n",
       " 'Ice',\n",
       " 'Normal',\n",
       " 'Poison',\n",
       " 'Psychic',\n",
       " 'Rock',\n",
       " 'Water']"
      ]
     },
     "execution_count": 70,
     "metadata": {},
     "output_type": "execute_result"
    }
   ],
   "source": [
    "from sklearn import preprocessing\n",
    "le = preprocessing.LabelEncoder()\n",
    "le.fit(poketype['Type 1'].unique())\n",
    "list(le.classes_)\n",
    "# newpoke['type']=le.transform(newpoke['type'])"
   ]
  },
  {
   "cell_type": "code",
   "execution_count": 28,
   "metadata": {
    "collapsed": false
   },
   "outputs": [
    {
     "data": {
      "text/html": [
       "<div>\n",
       "<table border=\"1\" class=\"dataframe\">\n",
       "  <thead>\n",
       "    <tr style=\"text-align: right;\">\n",
       "      <th></th>\n",
       "      <th>class</th>\n",
       "      <th>latitude</th>\n",
       "      <th>longitude</th>\n",
       "      <th>appearedTimeOfDay</th>\n",
       "      <th>appearedHour</th>\n",
       "      <th>appearedMinute</th>\n",
       "      <th>appearedDayOfWeek</th>\n",
       "      <th>appearedDay</th>\n",
       "      <th>terrainType</th>\n",
       "      <th>closeToWater</th>\n",
       "      <th>...</th>\n",
       "      <th>cooc_144</th>\n",
       "      <th>cooc_145</th>\n",
       "      <th>cooc_146</th>\n",
       "      <th>cooc_147</th>\n",
       "      <th>cooc_148</th>\n",
       "      <th>cooc_149</th>\n",
       "      <th>cooc_150</th>\n",
       "      <th>cooc_151</th>\n",
       "      <th>rarity</th>\n",
       "      <th>type</th>\n",
       "    </tr>\n",
       "  </thead>\n",
       "  <tbody>\n",
       "    <tr>\n",
       "      <th>0</th>\n",
       "      <td>102</td>\n",
       "      <td>36.634687</td>\n",
       "      <td>-87.284796</td>\n",
       "      <td>4</td>\n",
       "      <td>0</td>\n",
       "      <td>22</td>\n",
       "      <td>1</td>\n",
       "      <td>8</td>\n",
       "      <td>12</td>\n",
       "      <td>0</td>\n",
       "      <td>...</td>\n",
       "      <td>0</td>\n",
       "      <td>0</td>\n",
       "      <td>0</td>\n",
       "      <td>0</td>\n",
       "      <td>0</td>\n",
       "      <td>0</td>\n",
       "      <td>0</td>\n",
       "      <td>0</td>\n",
       "      <td>0</td>\n",
       "      <td>7</td>\n",
       "    </tr>\n",
       "    <tr>\n",
       "      <th>1</th>\n",
       "      <td>21</td>\n",
       "      <td>35.943122</td>\n",
       "      <td>-115.114291</td>\n",
       "      <td>4</td>\n",
       "      <td>1</td>\n",
       "      <td>7</td>\n",
       "      <td>7</td>\n",
       "      <td>7</td>\n",
       "      <td>7</td>\n",
       "      <td>0</td>\n",
       "      <td>...</td>\n",
       "      <td>0</td>\n",
       "      <td>0</td>\n",
       "      <td>0</td>\n",
       "      <td>0</td>\n",
       "      <td>0</td>\n",
       "      <td>0</td>\n",
       "      <td>0</td>\n",
       "      <td>0</td>\n",
       "      <td>0</td>\n",
       "      <td>10</td>\n",
       "    </tr>\n",
       "    <tr>\n",
       "      <th>2</th>\n",
       "      <td>74</td>\n",
       "      <td>39.755331</td>\n",
       "      <td>-105.221903</td>\n",
       "      <td>2</td>\n",
       "      <td>17</td>\n",
       "      <td>15</td>\n",
       "      <td>4</td>\n",
       "      <td>4</td>\n",
       "      <td>10</td>\n",
       "      <td>0</td>\n",
       "      <td>...</td>\n",
       "      <td>0</td>\n",
       "      <td>0</td>\n",
       "      <td>0</td>\n",
       "      <td>0</td>\n",
       "      <td>0</td>\n",
       "      <td>0</td>\n",
       "      <td>0</td>\n",
       "      <td>0</td>\n",
       "      <td>0</td>\n",
       "      <td>13</td>\n",
       "    </tr>\n",
       "    <tr>\n",
       "      <th>3</th>\n",
       "      <td>133</td>\n",
       "      <td>41.779385</td>\n",
       "      <td>-72.446387</td>\n",
       "      <td>4</td>\n",
       "      <td>2</td>\n",
       "      <td>57</td>\n",
       "      <td>7</td>\n",
       "      <td>7</td>\n",
       "      <td>4</td>\n",
       "      <td>0</td>\n",
       "      <td>...</td>\n",
       "      <td>0</td>\n",
       "      <td>0</td>\n",
       "      <td>0</td>\n",
       "      <td>0</td>\n",
       "      <td>0</td>\n",
       "      <td>0</td>\n",
       "      <td>0</td>\n",
       "      <td>0</td>\n",
       "      <td>1</td>\n",
       "      <td>10</td>\n",
       "    </tr>\n",
       "    <tr>\n",
       "      <th>4</th>\n",
       "      <td>60</td>\n",
       "      <td>41.112282</td>\n",
       "      <td>-73.327623</td>\n",
       "      <td>2</td>\n",
       "      <td>19</td>\n",
       "      <td>23</td>\n",
       "      <td>4</td>\n",
       "      <td>4</td>\n",
       "      <td>0</td>\n",
       "      <td>1</td>\n",
       "      <td>...</td>\n",
       "      <td>0</td>\n",
       "      <td>0</td>\n",
       "      <td>0</td>\n",
       "      <td>0</td>\n",
       "      <td>0</td>\n",
       "      <td>0</td>\n",
       "      <td>0</td>\n",
       "      <td>0</td>\n",
       "      <td>0</td>\n",
       "      <td>14</td>\n",
       "    </tr>\n",
       "  </tbody>\n",
       "</table>\n",
       "<p>5 rows × 196 columns</p>\n",
       "</div>"
      ],
      "text/plain": [
       "   class   latitude   longitude  appearedTimeOfDay  appearedHour  \\\n",
       "0    102  36.634687  -87.284796                  4             0   \n",
       "1     21  35.943122 -115.114291                  4             1   \n",
       "2     74  39.755331 -105.221903                  2            17   \n",
       "3    133  41.779385  -72.446387                  4             2   \n",
       "4     60  41.112282  -73.327623                  2            19   \n",
       "\n",
       "   appearedMinute  appearedDayOfWeek  appearedDay  terrainType  closeToWater  \\\n",
       "0              22                  1            8           12             0   \n",
       "1               7                  7            7            7             0   \n",
       "2              15                  4            4           10             0   \n",
       "3              57                  7            7            4             0   \n",
       "4              23                  4            4            0             1   \n",
       "\n",
       "   ...   cooc_144  cooc_145  cooc_146  cooc_147  cooc_148  cooc_149  cooc_150  \\\n",
       "0  ...          0         0         0         0         0         0         0   \n",
       "1  ...          0         0         0         0         0         0         0   \n",
       "2  ...          0         0         0         0         0         0         0   \n",
       "3  ...          0         0         0         0         0         0         0   \n",
       "4  ...          0         0         0         0         0         0         0   \n",
       "\n",
       "   cooc_151  rarity  type  \n",
       "0         0       0     7  \n",
       "1         0       0    10  \n",
       "2         0       0    13  \n",
       "3         0       1    10  \n",
       "4         0       0    14  \n",
       "\n",
       "[5 rows x 196 columns]"
      ]
     },
     "execution_count": 28,
     "metadata": {},
     "output_type": "execute_result"
    }
   ],
   "source": [
    "newpoke.head(5)"
   ]
  },
  {
   "cell_type": "code",
   "execution_count": 29,
   "metadata": {
    "collapsed": true
   },
   "outputs": [],
   "source": [
    "newpoke.to_csv(\"/Users/Shuxian/Documents/CSYE7200-Fall2016/predictemall/poke/poke_rarity_type_us.csv\",index=False)"
   ]
  },
  {
   "cell_type": "markdown",
   "metadata": {},
   "source": [
    "### train with very rare"
   ]
  },
  {
   "cell_type": "code",
   "execution_count": 102,
   "metadata": {
    "collapsed": true
   },
   "outputs": [],
   "source": [
    "train,test=train_test_split(veryrare,test_size=0.2, random_state=0)"
   ]
  },
  {
   "cell_type": "code",
   "execution_count": 103,
   "metadata": {
    "collapsed": true
   },
   "outputs": [],
   "source": [
    "X_train=train[train.columns[1:]]\n",
    "y_train=train[train.columns[0]]\n",
    "X_test=test[test.columns[1:]]\n",
    "y_test=test[test.columns[0]]"
   ]
  },
  {
   "cell_type": "code",
   "execution_count": 104,
   "metadata": {
    "collapsed": false
   },
   "outputs": [
    {
     "data": {
      "text/plain": [
       "MLPClassifier(activation='relu', alpha=1e-05, batch_size='auto', beta_1=0.9,\n",
       "       beta_2=0.999, early_stopping=False, epsilon=1e-08,\n",
       "       hidden_layer_sizes=(10, 10), learning_rate='constant',\n",
       "       learning_rate_init=0.001, max_iter=200, momentum=0.9,\n",
       "       nesterovs_momentum=True, power_t=0.5, random_state=1, shuffle=True,\n",
       "       solver='lbfgs', tol=0.0001, validation_fraction=0.1, verbose=False,\n",
       "       warm_start=False)"
      ]
     },
     "execution_count": 104,
     "metadata": {},
     "output_type": "execute_result"
    }
   ],
   "source": [
    "clf.fit(X_train,y_train)"
   ]
  },
  {
   "cell_type": "code",
   "execution_count": 105,
   "metadata": {
    "collapsed": true
   },
   "outputs": [],
   "source": [
    "y_pred=clf.predict(X_test)"
   ]
  },
  {
   "cell_type": "code",
   "execution_count": 106,
   "metadata": {
    "collapsed": false,
    "scrolled": true
   },
   "outputs": [
    {
     "data": {
      "text/plain": [
       "0.41830065359477125"
      ]
     },
     "execution_count": 106,
     "metadata": {},
     "output_type": "execute_result"
    }
   ],
   "source": [
    "accuracy_score(y_test, y_pred)"
   ]
  },
  {
   "cell_type": "markdown",
   "metadata": {},
   "source": [
    "## Drop columns whose name starts with \"cooc\""
   ]
  },
  {
   "cell_type": "code",
   "execution_count": 3,
   "metadata": {
    "collapsed": false
   },
   "outputs": [],
   "source": [
    "newpoke=pd.read_csv(\"/Users/Shuxian/Documents/CSYE7200-Fall2016/predictemall/poke/poke_rarity_type.csv\",header=0,low_memory=False)"
   ]
  },
  {
   "cell_type": "code",
   "execution_count": 16,
   "metadata": {
    "collapsed": false
   },
   "outputs": [],
   "source": [
    "newpoke.drop(newpoke.columns[cols],axis=1,inplace=True)"
   ]
  },
  {
   "cell_type": "code",
   "execution_count": 12,
   "metadata": {
    "collapsed": false
   },
   "outputs": [],
   "source": [
    "cols=[]\n",
    "for col in newpoke.columns:\n",
    "    cols.append(col.startswith(\"cooc\"))"
   ]
  },
  {
   "cell_type": "code",
   "execution_count": 15,
   "metadata": {
    "collapsed": false
   },
   "outputs": [
    {
     "data": {
      "text/plain": [
       "Index(['cooc_1', 'cooc_2', 'cooc_3', 'cooc_4', 'cooc_5', 'cooc_6', 'cooc_7',\n",
       "       'cooc_8', 'cooc_9', 'cooc_10',\n",
       "       ...\n",
       "       'cooc_142', 'cooc_143', 'cooc_144', 'cooc_145', 'cooc_146', 'cooc_147',\n",
       "       'cooc_148', 'cooc_149', 'cooc_150', 'cooc_151'],\n",
       "      dtype='object', length=151)"
      ]
     },
     "execution_count": 15,
     "metadata": {},
     "output_type": "execute_result"
    }
   ],
   "source": [
    "newpoke.columns[cols]"
   ]
  },
  {
   "cell_type": "code",
   "execution_count": 18,
   "metadata": {
    "collapsed": false
   },
   "outputs": [],
   "source": [
    "newpoke.to_csv(\"/Users/Shuxian/Documents/CSYE7200-Fall2016/predictemall/poke/poke_46.csv\",index=False)"
   ]
  },
  {
   "cell_type": "markdown",
   "metadata": {},
   "source": [
    "### drop sunriseMinutesSince, sunriseMinutesSince and class"
   ]
  },
  {
   "cell_type": "code",
   "execution_count": 2,
   "metadata": {
    "collapsed": true
   },
   "outputs": [],
   "source": [
    "newpoke=pd.read_csv(\"/Users/Shuxian/Documents/CSYE7200-Fall2016/predictemall/poke/poke_46.csv\",header=0,low_memory=False)"
   ]
  },
  {
   "cell_type": "code",
   "execution_count": 25,
   "metadata": {
    "collapsed": false,
    "scrolled": true
   },
   "outputs": [
    {
     "data": {
      "text/html": [
       "<div>\n",
       "<table border=\"1\" class=\"dataframe\">\n",
       "  <thead>\n",
       "    <tr style=\"text-align: right;\">\n",
       "      <th></th>\n",
       "      <th>sunriseMinutesMidnight</th>\n",
       "      <th>sunriseHour</th>\n",
       "      <th>sunriseMinute</th>\n",
       "      <th>sunriseMinutesSince</th>\n",
       "      <th>sunsetMinutesMidnight</th>\n",
       "      <th>sunsetHour</th>\n",
       "      <th>sunsetMinute</th>\n",
       "      <th>sunsetMinutesBefore</th>\n",
       "    </tr>\n",
       "  </thead>\n",
       "  <tbody>\n",
       "    <tr>\n",
       "      <th>0</th>\n",
       "      <td>409</td>\n",
       "      <td>6</td>\n",
       "      <td>49</td>\n",
       "      <td>608</td>\n",
       "      <td>1220</td>\n",
       "      <td>20</td>\n",
       "      <td>20</td>\n",
       "      <td>203</td>\n",
       "    </tr>\n",
       "    <tr>\n",
       "      <th>1</th>\n",
       "      <td>378</td>\n",
       "      <td>6</td>\n",
       "      <td>18</td>\n",
       "      <td>915</td>\n",
       "      <td>1153</td>\n",
       "      <td>19</td>\n",
       "      <td>13</td>\n",
       "      <td>-140</td>\n",
       "    </tr>\n",
       "    <tr>\n",
       "      <th>2</th>\n",
       "      <td>399</td>\n",
       "      <td>6</td>\n",
       "      <td>39</td>\n",
       "      <td>590</td>\n",
       "      <td>1201</td>\n",
       "      <td>20</td>\n",
       "      <td>1</td>\n",
       "      <td>212</td>\n",
       "    </tr>\n",
       "    <tr>\n",
       "      <th>3</th>\n",
       "      <td>406</td>\n",
       "      <td>6</td>\n",
       "      <td>46</td>\n",
       "      <td>732</td>\n",
       "      <td>1189</td>\n",
       "      <td>19</td>\n",
       "      <td>49</td>\n",
       "      <td>51</td>\n",
       "    </tr>\n",
       "    <tr>\n",
       "      <th>4</th>\n",
       "      <td>435</td>\n",
       "      <td>7</td>\n",
       "      <td>15</td>\n",
       "      <td>704</td>\n",
       "      <td>1199</td>\n",
       "      <td>19</td>\n",
       "      <td>59</td>\n",
       "      <td>60</td>\n",
       "    </tr>\n",
       "  </tbody>\n",
       "</table>\n",
       "</div>"
      ],
      "text/plain": [
       "   sunriseMinutesMidnight  sunriseHour  sunriseMinute  sunriseMinutesSince  \\\n",
       "0                     409            6             49                  608   \n",
       "1                     378            6             18                  915   \n",
       "2                     399            6             39                  590   \n",
       "3                     406            6             46                  732   \n",
       "4                     435            7             15                  704   \n",
       "\n",
       "   sunsetMinutesMidnight  sunsetHour  sunsetMinute  sunsetMinutesBefore  \n",
       "0                   1220          20            20                  203  \n",
       "1                   1153          19            13                 -140  \n",
       "2                   1201          20             1                  212  \n",
       "3                   1189          19            49                   51  \n",
       "4                   1199          19            59                   60  "
      ]
     },
     "execution_count": 25,
     "metadata": {},
     "output_type": "execute_result"
    }
   ],
   "source": [
    "newpoke[newpoke.columns[[17,18,19,20,21,22,23,24]]].head(5)"
   ]
  },
  {
   "cell_type": "code",
   "execution_count": 39,
   "metadata": {
    "collapsed": false
   },
   "outputs": [],
   "source": [
    "newpoke.drop(['sunriseMinutesSince','sunriseMinutesSince'], inplace=True, axis=1)"
   ]
  },
  {
   "cell_type": "code",
   "execution_count": 41,
   "metadata": {
    "collapsed": false
   },
   "outputs": [],
   "source": [
    "newpoke.to_csv(\"/Users/Shuxian/Documents/CSYE7200-Fall2016/predictemall/poke/poke_44.csv\",header=0,low_memory=False)"
   ]
  },
  {
   "cell_type": "code",
   "execution_count": 27,
   "metadata": {
    "collapsed": true
   },
   "outputs": [],
   "source": [
    "poke= pd.read_csv(\"/Users/Shuxian/Documents/CSYE7200-Fall2016/predictemall/300k.csv\", low_memory=False, header=0)"
   ]
  },
  {
   "cell_type": "code",
   "execution_count": 33,
   "metadata": {
    "collapsed": true
   },
   "outputs": [],
   "source": [
    "cols=[]\n",
    "for col in poke.columns:\n",
    "    cols.append(col.startswith(\"appeared\"))"
   ]
  },
  {
   "cell_type": "code",
   "execution_count": 35,
   "metadata": {
    "collapsed": false
   },
   "outputs": [
    {
     "data": {
      "text/html": [
       "<div>\n",
       "<table border=\"1\" class=\"dataframe\">\n",
       "  <thead>\n",
       "    <tr style=\"text-align: right;\">\n",
       "      <th></th>\n",
       "      <th>appearedLocalTime</th>\n",
       "      <th>appearedTimeOfDay</th>\n",
       "      <th>appearedHour</th>\n",
       "      <th>appearedMinute</th>\n",
       "      <th>appearedDayOfWeek</th>\n",
       "      <th>appearedDay</th>\n",
       "      <th>appearedMonth</th>\n",
       "      <th>appearedYear</th>\n",
       "    </tr>\n",
       "  </thead>\n",
       "  <tbody>\n",
       "    <tr>\n",
       "      <th>0</th>\n",
       "      <td>2016-09-08T03:57:45</td>\n",
       "      <td>night</td>\n",
       "      <td>5</td>\n",
       "      <td>57</td>\n",
       "      <td>dummy_day</td>\n",
       "      <td>8</td>\n",
       "      <td>8</td>\n",
       "      <td>2016</td>\n",
       "    </tr>\n",
       "    <tr>\n",
       "      <th>1</th>\n",
       "      <td>2016-09-08T03:57:37</td>\n",
       "      <td>night</td>\n",
       "      <td>5</td>\n",
       "      <td>57</td>\n",
       "      <td>dummy_day</td>\n",
       "      <td>8</td>\n",
       "      <td>8</td>\n",
       "      <td>2016</td>\n",
       "    </tr>\n",
       "    <tr>\n",
       "      <th>2</th>\n",
       "      <td>2016-09-08T03:57:25</td>\n",
       "      <td>night</td>\n",
       "      <td>5</td>\n",
       "      <td>57</td>\n",
       "      <td>dummy_day</td>\n",
       "      <td>8</td>\n",
       "      <td>8</td>\n",
       "      <td>2016</td>\n",
       "    </tr>\n",
       "    <tr>\n",
       "      <th>3</th>\n",
       "      <td>2016-09-08T03:56:22</td>\n",
       "      <td>night</td>\n",
       "      <td>5</td>\n",
       "      <td>56</td>\n",
       "      <td>dummy_day</td>\n",
       "      <td>8</td>\n",
       "      <td>8</td>\n",
       "      <td>2016</td>\n",
       "    </tr>\n",
       "    <tr>\n",
       "      <th>4</th>\n",
       "      <td>2016-09-08T03:56:08</td>\n",
       "      <td>night</td>\n",
       "      <td>5</td>\n",
       "      <td>56</td>\n",
       "      <td>dummy_day</td>\n",
       "      <td>8</td>\n",
       "      <td>8</td>\n",
       "      <td>2016</td>\n",
       "    </tr>\n",
       "    <tr>\n",
       "      <th>5</th>\n",
       "      <td>2016-09-08T03:55:58</td>\n",
       "      <td>night</td>\n",
       "      <td>5</td>\n",
       "      <td>55</td>\n",
       "      <td>dummy_day</td>\n",
       "      <td>8</td>\n",
       "      <td>8</td>\n",
       "      <td>2016</td>\n",
       "    </tr>\n",
       "    <tr>\n",
       "      <th>6</th>\n",
       "      <td>2016-09-08T03:55:25</td>\n",
       "      <td>night</td>\n",
       "      <td>5</td>\n",
       "      <td>55</td>\n",
       "      <td>dummy_day</td>\n",
       "      <td>8</td>\n",
       "      <td>8</td>\n",
       "      <td>2016</td>\n",
       "    </tr>\n",
       "    <tr>\n",
       "      <th>7</th>\n",
       "      <td>2016-09-08T03:55:18</td>\n",
       "      <td>night</td>\n",
       "      <td>5</td>\n",
       "      <td>55</td>\n",
       "      <td>dummy_day</td>\n",
       "      <td>8</td>\n",
       "      <td>8</td>\n",
       "      <td>2016</td>\n",
       "    </tr>\n",
       "    <tr>\n",
       "      <th>8</th>\n",
       "      <td>2016-09-08T03:55:01</td>\n",
       "      <td>night</td>\n",
       "      <td>5</td>\n",
       "      <td>55</td>\n",
       "      <td>dummy_day</td>\n",
       "      <td>8</td>\n",
       "      <td>8</td>\n",
       "      <td>2016</td>\n",
       "    </tr>\n",
       "    <tr>\n",
       "      <th>9</th>\n",
       "      <td>2016-09-08T03:54:50</td>\n",
       "      <td>night</td>\n",
       "      <td>5</td>\n",
       "      <td>54</td>\n",
       "      <td>dummy_day</td>\n",
       "      <td>8</td>\n",
       "      <td>8</td>\n",
       "      <td>2016</td>\n",
       "    </tr>\n",
       "    <tr>\n",
       "      <th>10</th>\n",
       "      <td>2016-09-08T03:53:51</td>\n",
       "      <td>night</td>\n",
       "      <td>5</td>\n",
       "      <td>53</td>\n",
       "      <td>dummy_day</td>\n",
       "      <td>8</td>\n",
       "      <td>8</td>\n",
       "      <td>2016</td>\n",
       "    </tr>\n",
       "    <tr>\n",
       "      <th>11</th>\n",
       "      <td>2016-09-08T03:53:42</td>\n",
       "      <td>night</td>\n",
       "      <td>5</td>\n",
       "      <td>53</td>\n",
       "      <td>dummy_day</td>\n",
       "      <td>8</td>\n",
       "      <td>8</td>\n",
       "      <td>2016</td>\n",
       "    </tr>\n",
       "    <tr>\n",
       "      <th>12</th>\n",
       "      <td>2016-09-08T03:53:40</td>\n",
       "      <td>night</td>\n",
       "      <td>5</td>\n",
       "      <td>53</td>\n",
       "      <td>dummy_day</td>\n",
       "      <td>8</td>\n",
       "      <td>8</td>\n",
       "      <td>2016</td>\n",
       "    </tr>\n",
       "    <tr>\n",
       "      <th>13</th>\n",
       "      <td>2016-09-08T03:53:25</td>\n",
       "      <td>night</td>\n",
       "      <td>5</td>\n",
       "      <td>53</td>\n",
       "      <td>dummy_day</td>\n",
       "      <td>8</td>\n",
       "      <td>8</td>\n",
       "      <td>2016</td>\n",
       "    </tr>\n",
       "    <tr>\n",
       "      <th>14</th>\n",
       "      <td>2016-09-08T03:53:24</td>\n",
       "      <td>night</td>\n",
       "      <td>5</td>\n",
       "      <td>53</td>\n",
       "      <td>dummy_day</td>\n",
       "      <td>8</td>\n",
       "      <td>8</td>\n",
       "      <td>2016</td>\n",
       "    </tr>\n",
       "    <tr>\n",
       "      <th>15</th>\n",
       "      <td>2016-09-08T03:52:52</td>\n",
       "      <td>night</td>\n",
       "      <td>5</td>\n",
       "      <td>52</td>\n",
       "      <td>dummy_day</td>\n",
       "      <td>8</td>\n",
       "      <td>8</td>\n",
       "      <td>2016</td>\n",
       "    </tr>\n",
       "    <tr>\n",
       "      <th>16</th>\n",
       "      <td>2016-09-08T03:51:50</td>\n",
       "      <td>night</td>\n",
       "      <td>5</td>\n",
       "      <td>51</td>\n",
       "      <td>dummy_day</td>\n",
       "      <td>8</td>\n",
       "      <td>8</td>\n",
       "      <td>2016</td>\n",
       "    </tr>\n",
       "    <tr>\n",
       "      <th>17</th>\n",
       "      <td>2016-09-08T03:51:27</td>\n",
       "      <td>night</td>\n",
       "      <td>5</td>\n",
       "      <td>51</td>\n",
       "      <td>dummy_day</td>\n",
       "      <td>8</td>\n",
       "      <td>8</td>\n",
       "      <td>2016</td>\n",
       "    </tr>\n",
       "    <tr>\n",
       "      <th>18</th>\n",
       "      <td>2016-09-08T03:51:14</td>\n",
       "      <td>night</td>\n",
       "      <td>5</td>\n",
       "      <td>51</td>\n",
       "      <td>dummy_day</td>\n",
       "      <td>8</td>\n",
       "      <td>8</td>\n",
       "      <td>2016</td>\n",
       "    </tr>\n",
       "    <tr>\n",
       "      <th>19</th>\n",
       "      <td>2016-09-08T03:51:11</td>\n",
       "      <td>night</td>\n",
       "      <td>5</td>\n",
       "      <td>51</td>\n",
       "      <td>dummy_day</td>\n",
       "      <td>8</td>\n",
       "      <td>8</td>\n",
       "      <td>2016</td>\n",
       "    </tr>\n",
       "    <tr>\n",
       "      <th>20</th>\n",
       "      <td>2016-09-08T03:50:41</td>\n",
       "      <td>night</td>\n",
       "      <td>5</td>\n",
       "      <td>50</td>\n",
       "      <td>dummy_day</td>\n",
       "      <td>8</td>\n",
       "      <td>8</td>\n",
       "      <td>2016</td>\n",
       "    </tr>\n",
       "    <tr>\n",
       "      <th>21</th>\n",
       "      <td>2016-09-08T03:50:40</td>\n",
       "      <td>night</td>\n",
       "      <td>5</td>\n",
       "      <td>50</td>\n",
       "      <td>dummy_day</td>\n",
       "      <td>8</td>\n",
       "      <td>8</td>\n",
       "      <td>2016</td>\n",
       "    </tr>\n",
       "    <tr>\n",
       "      <th>22</th>\n",
       "      <td>2016-09-08T03:50:29</td>\n",
       "      <td>night</td>\n",
       "      <td>5</td>\n",
       "      <td>50</td>\n",
       "      <td>dummy_day</td>\n",
       "      <td>8</td>\n",
       "      <td>8</td>\n",
       "      <td>2016</td>\n",
       "    </tr>\n",
       "    <tr>\n",
       "      <th>23</th>\n",
       "      <td>2016-09-08T03:50:15</td>\n",
       "      <td>night</td>\n",
       "      <td>5</td>\n",
       "      <td>50</td>\n",
       "      <td>dummy_day</td>\n",
       "      <td>8</td>\n",
       "      <td>8</td>\n",
       "      <td>2016</td>\n",
       "    </tr>\n",
       "    <tr>\n",
       "      <th>24</th>\n",
       "      <td>2016-09-08T03:49:53</td>\n",
       "      <td>night</td>\n",
       "      <td>5</td>\n",
       "      <td>49</td>\n",
       "      <td>dummy_day</td>\n",
       "      <td>8</td>\n",
       "      <td>8</td>\n",
       "      <td>2016</td>\n",
       "    </tr>\n",
       "    <tr>\n",
       "      <th>25</th>\n",
       "      <td>2016-09-08T03:49:49</td>\n",
       "      <td>night</td>\n",
       "      <td>5</td>\n",
       "      <td>49</td>\n",
       "      <td>dummy_day</td>\n",
       "      <td>8</td>\n",
       "      <td>8</td>\n",
       "      <td>2016</td>\n",
       "    </tr>\n",
       "    <tr>\n",
       "      <th>26</th>\n",
       "      <td>2016-09-08T03:49:48</td>\n",
       "      <td>night</td>\n",
       "      <td>5</td>\n",
       "      <td>49</td>\n",
       "      <td>dummy_day</td>\n",
       "      <td>8</td>\n",
       "      <td>8</td>\n",
       "      <td>2016</td>\n",
       "    </tr>\n",
       "    <tr>\n",
       "      <th>27</th>\n",
       "      <td>2016-09-08T03:49:39</td>\n",
       "      <td>night</td>\n",
       "      <td>5</td>\n",
       "      <td>49</td>\n",
       "      <td>dummy_day</td>\n",
       "      <td>8</td>\n",
       "      <td>8</td>\n",
       "      <td>2016</td>\n",
       "    </tr>\n",
       "    <tr>\n",
       "      <th>28</th>\n",
       "      <td>2016-09-08T03:49:28</td>\n",
       "      <td>night</td>\n",
       "      <td>5</td>\n",
       "      <td>49</td>\n",
       "      <td>dummy_day</td>\n",
       "      <td>8</td>\n",
       "      <td>8</td>\n",
       "      <td>2016</td>\n",
       "    </tr>\n",
       "    <tr>\n",
       "      <th>29</th>\n",
       "      <td>2016-09-08T03:49:02</td>\n",
       "      <td>night</td>\n",
       "      <td>5</td>\n",
       "      <td>49</td>\n",
       "      <td>dummy_day</td>\n",
       "      <td>8</td>\n",
       "      <td>8</td>\n",
       "      <td>2016</td>\n",
       "    </tr>\n",
       "    <tr>\n",
       "      <th>...</th>\n",
       "      <td>...</td>\n",
       "      <td>...</td>\n",
       "      <td>...</td>\n",
       "      <td>...</td>\n",
       "      <td>...</td>\n",
       "      <td>...</td>\n",
       "      <td>...</td>\n",
       "      <td>...</td>\n",
       "    </tr>\n",
       "    <tr>\n",
       "      <th>295991</th>\n",
       "      <td>2016-09-02T21:50:40</td>\n",
       "      <td>night</td>\n",
       "      <td>23</td>\n",
       "      <td>50</td>\n",
       "      <td>Tuesday</td>\n",
       "      <td>2</td>\n",
       "      <td>8</td>\n",
       "      <td>2016</td>\n",
       "    </tr>\n",
       "    <tr>\n",
       "      <th>295992</th>\n",
       "      <td>2016-09-02T21:50:40</td>\n",
       "      <td>night</td>\n",
       "      <td>23</td>\n",
       "      <td>50</td>\n",
       "      <td>Tuesday</td>\n",
       "      <td>2</td>\n",
       "      <td>8</td>\n",
       "      <td>2016</td>\n",
       "    </tr>\n",
       "    <tr>\n",
       "      <th>295993</th>\n",
       "      <td>2016-09-02T21:50:38</td>\n",
       "      <td>night</td>\n",
       "      <td>23</td>\n",
       "      <td>50</td>\n",
       "      <td>Tuesday</td>\n",
       "      <td>2</td>\n",
       "      <td>8</td>\n",
       "      <td>2016</td>\n",
       "    </tr>\n",
       "    <tr>\n",
       "      <th>295994</th>\n",
       "      <td>2016-09-02T21:50:37</td>\n",
       "      <td>night</td>\n",
       "      <td>23</td>\n",
       "      <td>50</td>\n",
       "      <td>Tuesday</td>\n",
       "      <td>2</td>\n",
       "      <td>8</td>\n",
       "      <td>2016</td>\n",
       "    </tr>\n",
       "    <tr>\n",
       "      <th>295995</th>\n",
       "      <td>2016-09-02T21:50:36</td>\n",
       "      <td>night</td>\n",
       "      <td>23</td>\n",
       "      <td>50</td>\n",
       "      <td>Tuesday</td>\n",
       "      <td>2</td>\n",
       "      <td>8</td>\n",
       "      <td>2016</td>\n",
       "    </tr>\n",
       "    <tr>\n",
       "      <th>295996</th>\n",
       "      <td>2016-09-02T21:50:33</td>\n",
       "      <td>night</td>\n",
       "      <td>23</td>\n",
       "      <td>50</td>\n",
       "      <td>Tuesday</td>\n",
       "      <td>2</td>\n",
       "      <td>8</td>\n",
       "      <td>2016</td>\n",
       "    </tr>\n",
       "    <tr>\n",
       "      <th>295997</th>\n",
       "      <td>2016-09-02T21:50:32</td>\n",
       "      <td>night</td>\n",
       "      <td>23</td>\n",
       "      <td>50</td>\n",
       "      <td>Tuesday</td>\n",
       "      <td>2</td>\n",
       "      <td>8</td>\n",
       "      <td>2016</td>\n",
       "    </tr>\n",
       "    <tr>\n",
       "      <th>295998</th>\n",
       "      <td>2016-09-02T21:50:30</td>\n",
       "      <td>night</td>\n",
       "      <td>23</td>\n",
       "      <td>50</td>\n",
       "      <td>Tuesday</td>\n",
       "      <td>2</td>\n",
       "      <td>8</td>\n",
       "      <td>2016</td>\n",
       "    </tr>\n",
       "    <tr>\n",
       "      <th>295999</th>\n",
       "      <td>2016-09-02T21:50:29</td>\n",
       "      <td>night</td>\n",
       "      <td>23</td>\n",
       "      <td>50</td>\n",
       "      <td>Tuesday</td>\n",
       "      <td>2</td>\n",
       "      <td>8</td>\n",
       "      <td>2016</td>\n",
       "    </tr>\n",
       "    <tr>\n",
       "      <th>296000</th>\n",
       "      <td>2016-09-02T21:50:29</td>\n",
       "      <td>night</td>\n",
       "      <td>23</td>\n",
       "      <td>50</td>\n",
       "      <td>Tuesday</td>\n",
       "      <td>2</td>\n",
       "      <td>8</td>\n",
       "      <td>2016</td>\n",
       "    </tr>\n",
       "    <tr>\n",
       "      <th>296001</th>\n",
       "      <td>2016-09-02T21:50:29</td>\n",
       "      <td>night</td>\n",
       "      <td>23</td>\n",
       "      <td>50</td>\n",
       "      <td>Tuesday</td>\n",
       "      <td>2</td>\n",
       "      <td>8</td>\n",
       "      <td>2016</td>\n",
       "    </tr>\n",
       "    <tr>\n",
       "      <th>296002</th>\n",
       "      <td>2016-09-02T21:50:26</td>\n",
       "      <td>night</td>\n",
       "      <td>23</td>\n",
       "      <td>50</td>\n",
       "      <td>Tuesday</td>\n",
       "      <td>2</td>\n",
       "      <td>8</td>\n",
       "      <td>2016</td>\n",
       "    </tr>\n",
       "    <tr>\n",
       "      <th>296003</th>\n",
       "      <td>2016-09-02T21:50:24</td>\n",
       "      <td>night</td>\n",
       "      <td>23</td>\n",
       "      <td>50</td>\n",
       "      <td>Tuesday</td>\n",
       "      <td>2</td>\n",
       "      <td>8</td>\n",
       "      <td>2016</td>\n",
       "    </tr>\n",
       "    <tr>\n",
       "      <th>296004</th>\n",
       "      <td>2016-09-02T21:50:24</td>\n",
       "      <td>night</td>\n",
       "      <td>23</td>\n",
       "      <td>50</td>\n",
       "      <td>Tuesday</td>\n",
       "      <td>2</td>\n",
       "      <td>8</td>\n",
       "      <td>2016</td>\n",
       "    </tr>\n",
       "    <tr>\n",
       "      <th>296005</th>\n",
       "      <td>2016-09-02T21:50:21</td>\n",
       "      <td>night</td>\n",
       "      <td>23</td>\n",
       "      <td>50</td>\n",
       "      <td>Tuesday</td>\n",
       "      <td>2</td>\n",
       "      <td>8</td>\n",
       "      <td>2016</td>\n",
       "    </tr>\n",
       "    <tr>\n",
       "      <th>296006</th>\n",
       "      <td>2016-09-02T21:50:20</td>\n",
       "      <td>night</td>\n",
       "      <td>23</td>\n",
       "      <td>50</td>\n",
       "      <td>Tuesday</td>\n",
       "      <td>2</td>\n",
       "      <td>8</td>\n",
       "      <td>2016</td>\n",
       "    </tr>\n",
       "    <tr>\n",
       "      <th>296007</th>\n",
       "      <td>2016-09-02T21:50:20</td>\n",
       "      <td>night</td>\n",
       "      <td>23</td>\n",
       "      <td>50</td>\n",
       "      <td>Tuesday</td>\n",
       "      <td>2</td>\n",
       "      <td>8</td>\n",
       "      <td>2016</td>\n",
       "    </tr>\n",
       "    <tr>\n",
       "      <th>296008</th>\n",
       "      <td>2016-09-02T21:50:20</td>\n",
       "      <td>night</td>\n",
       "      <td>23</td>\n",
       "      <td>50</td>\n",
       "      <td>Tuesday</td>\n",
       "      <td>2</td>\n",
       "      <td>8</td>\n",
       "      <td>2016</td>\n",
       "    </tr>\n",
       "    <tr>\n",
       "      <th>296009</th>\n",
       "      <td>2016-09-02T21:50:19</td>\n",
       "      <td>night</td>\n",
       "      <td>23</td>\n",
       "      <td>50</td>\n",
       "      <td>Tuesday</td>\n",
       "      <td>2</td>\n",
       "      <td>8</td>\n",
       "      <td>2016</td>\n",
       "    </tr>\n",
       "    <tr>\n",
       "      <th>296010</th>\n",
       "      <td>2016-09-02T21:50:15</td>\n",
       "      <td>night</td>\n",
       "      <td>23</td>\n",
       "      <td>50</td>\n",
       "      <td>Tuesday</td>\n",
       "      <td>2</td>\n",
       "      <td>8</td>\n",
       "      <td>2016</td>\n",
       "    </tr>\n",
       "    <tr>\n",
       "      <th>296011</th>\n",
       "      <td>2016-09-02T21:50:15</td>\n",
       "      <td>night</td>\n",
       "      <td>23</td>\n",
       "      <td>50</td>\n",
       "      <td>Tuesday</td>\n",
       "      <td>2</td>\n",
       "      <td>8</td>\n",
       "      <td>2016</td>\n",
       "    </tr>\n",
       "    <tr>\n",
       "      <th>296012</th>\n",
       "      <td>2016-09-02T21:50:13</td>\n",
       "      <td>night</td>\n",
       "      <td>23</td>\n",
       "      <td>50</td>\n",
       "      <td>Tuesday</td>\n",
       "      <td>2</td>\n",
       "      <td>8</td>\n",
       "      <td>2016</td>\n",
       "    </tr>\n",
       "    <tr>\n",
       "      <th>296013</th>\n",
       "      <td>2016-09-02T21:50:11</td>\n",
       "      <td>night</td>\n",
       "      <td>23</td>\n",
       "      <td>50</td>\n",
       "      <td>Tuesday</td>\n",
       "      <td>2</td>\n",
       "      <td>8</td>\n",
       "      <td>2016</td>\n",
       "    </tr>\n",
       "    <tr>\n",
       "      <th>296014</th>\n",
       "      <td>2016-09-02T21:50:11</td>\n",
       "      <td>night</td>\n",
       "      <td>23</td>\n",
       "      <td>50</td>\n",
       "      <td>Tuesday</td>\n",
       "      <td>2</td>\n",
       "      <td>8</td>\n",
       "      <td>2016</td>\n",
       "    </tr>\n",
       "    <tr>\n",
       "      <th>296015</th>\n",
       "      <td>2016-09-02T21:50:11</td>\n",
       "      <td>night</td>\n",
       "      <td>23</td>\n",
       "      <td>50</td>\n",
       "      <td>Tuesday</td>\n",
       "      <td>2</td>\n",
       "      <td>8</td>\n",
       "      <td>2016</td>\n",
       "    </tr>\n",
       "    <tr>\n",
       "      <th>296016</th>\n",
       "      <td>2016-09-02T21:50:11</td>\n",
       "      <td>night</td>\n",
       "      <td>23</td>\n",
       "      <td>50</td>\n",
       "      <td>Tuesday</td>\n",
       "      <td>2</td>\n",
       "      <td>8</td>\n",
       "      <td>2016</td>\n",
       "    </tr>\n",
       "    <tr>\n",
       "      <th>296017</th>\n",
       "      <td>2016-09-02T21:50:08</td>\n",
       "      <td>night</td>\n",
       "      <td>23</td>\n",
       "      <td>50</td>\n",
       "      <td>Tuesday</td>\n",
       "      <td>2</td>\n",
       "      <td>8</td>\n",
       "      <td>2016</td>\n",
       "    </tr>\n",
       "    <tr>\n",
       "      <th>296018</th>\n",
       "      <td>2016-09-02T21:50:07</td>\n",
       "      <td>night</td>\n",
       "      <td>23</td>\n",
       "      <td>50</td>\n",
       "      <td>Tuesday</td>\n",
       "      <td>2</td>\n",
       "      <td>8</td>\n",
       "      <td>2016</td>\n",
       "    </tr>\n",
       "    <tr>\n",
       "      <th>296019</th>\n",
       "      <td>2016-09-02T21:50:07</td>\n",
       "      <td>night</td>\n",
       "      <td>23</td>\n",
       "      <td>50</td>\n",
       "      <td>Tuesday</td>\n",
       "      <td>2</td>\n",
       "      <td>8</td>\n",
       "      <td>2016</td>\n",
       "    </tr>\n",
       "    <tr>\n",
       "      <th>296020</th>\n",
       "      <td>2016-09-02T21:50:06</td>\n",
       "      <td>night</td>\n",
       "      <td>23</td>\n",
       "      <td>50</td>\n",
       "      <td>Tuesday</td>\n",
       "      <td>2</td>\n",
       "      <td>8</td>\n",
       "      <td>2016</td>\n",
       "    </tr>\n",
       "  </tbody>\n",
       "</table>\n",
       "<p>296021 rows × 8 columns</p>\n",
       "</div>"
      ],
      "text/plain": [
       "          appearedLocalTime appearedTimeOfDay  appearedHour  appearedMinute  \\\n",
       "0       2016-09-08T03:57:45             night             5              57   \n",
       "1       2016-09-08T03:57:37             night             5              57   \n",
       "2       2016-09-08T03:57:25             night             5              57   \n",
       "3       2016-09-08T03:56:22             night             5              56   \n",
       "4       2016-09-08T03:56:08             night             5              56   \n",
       "5       2016-09-08T03:55:58             night             5              55   \n",
       "6       2016-09-08T03:55:25             night             5              55   \n",
       "7       2016-09-08T03:55:18             night             5              55   \n",
       "8       2016-09-08T03:55:01             night             5              55   \n",
       "9       2016-09-08T03:54:50             night             5              54   \n",
       "10      2016-09-08T03:53:51             night             5              53   \n",
       "11      2016-09-08T03:53:42             night             5              53   \n",
       "12      2016-09-08T03:53:40             night             5              53   \n",
       "13      2016-09-08T03:53:25             night             5              53   \n",
       "14      2016-09-08T03:53:24             night             5              53   \n",
       "15      2016-09-08T03:52:52             night             5              52   \n",
       "16      2016-09-08T03:51:50             night             5              51   \n",
       "17      2016-09-08T03:51:27             night             5              51   \n",
       "18      2016-09-08T03:51:14             night             5              51   \n",
       "19      2016-09-08T03:51:11             night             5              51   \n",
       "20      2016-09-08T03:50:41             night             5              50   \n",
       "21      2016-09-08T03:50:40             night             5              50   \n",
       "22      2016-09-08T03:50:29             night             5              50   \n",
       "23      2016-09-08T03:50:15             night             5              50   \n",
       "24      2016-09-08T03:49:53             night             5              49   \n",
       "25      2016-09-08T03:49:49             night             5              49   \n",
       "26      2016-09-08T03:49:48             night             5              49   \n",
       "27      2016-09-08T03:49:39             night             5              49   \n",
       "28      2016-09-08T03:49:28             night             5              49   \n",
       "29      2016-09-08T03:49:02             night             5              49   \n",
       "...                     ...               ...           ...             ...   \n",
       "295991  2016-09-02T21:50:40             night            23              50   \n",
       "295992  2016-09-02T21:50:40             night            23              50   \n",
       "295993  2016-09-02T21:50:38             night            23              50   \n",
       "295994  2016-09-02T21:50:37             night            23              50   \n",
       "295995  2016-09-02T21:50:36             night            23              50   \n",
       "295996  2016-09-02T21:50:33             night            23              50   \n",
       "295997  2016-09-02T21:50:32             night            23              50   \n",
       "295998  2016-09-02T21:50:30             night            23              50   \n",
       "295999  2016-09-02T21:50:29             night            23              50   \n",
       "296000  2016-09-02T21:50:29             night            23              50   \n",
       "296001  2016-09-02T21:50:29             night            23              50   \n",
       "296002  2016-09-02T21:50:26             night            23              50   \n",
       "296003  2016-09-02T21:50:24             night            23              50   \n",
       "296004  2016-09-02T21:50:24             night            23              50   \n",
       "296005  2016-09-02T21:50:21             night            23              50   \n",
       "296006  2016-09-02T21:50:20             night            23              50   \n",
       "296007  2016-09-02T21:50:20             night            23              50   \n",
       "296008  2016-09-02T21:50:20             night            23              50   \n",
       "296009  2016-09-02T21:50:19             night            23              50   \n",
       "296010  2016-09-02T21:50:15             night            23              50   \n",
       "296011  2016-09-02T21:50:15             night            23              50   \n",
       "296012  2016-09-02T21:50:13             night            23              50   \n",
       "296013  2016-09-02T21:50:11             night            23              50   \n",
       "296014  2016-09-02T21:50:11             night            23              50   \n",
       "296015  2016-09-02T21:50:11             night            23              50   \n",
       "296016  2016-09-02T21:50:11             night            23              50   \n",
       "296017  2016-09-02T21:50:08             night            23              50   \n",
       "296018  2016-09-02T21:50:07             night            23              50   \n",
       "296019  2016-09-02T21:50:07             night            23              50   \n",
       "296020  2016-09-02T21:50:06             night            23              50   \n",
       "\n",
       "       appearedDayOfWeek  appearedDay  appearedMonth  appearedYear  \n",
       "0              dummy_day            8              8          2016  \n",
       "1              dummy_day            8              8          2016  \n",
       "2              dummy_day            8              8          2016  \n",
       "3              dummy_day            8              8          2016  \n",
       "4              dummy_day            8              8          2016  \n",
       "5              dummy_day            8              8          2016  \n",
       "6              dummy_day            8              8          2016  \n",
       "7              dummy_day            8              8          2016  \n",
       "8              dummy_day            8              8          2016  \n",
       "9              dummy_day            8              8          2016  \n",
       "10             dummy_day            8              8          2016  \n",
       "11             dummy_day            8              8          2016  \n",
       "12             dummy_day            8              8          2016  \n",
       "13             dummy_day            8              8          2016  \n",
       "14             dummy_day            8              8          2016  \n",
       "15             dummy_day            8              8          2016  \n",
       "16             dummy_day            8              8          2016  \n",
       "17             dummy_day            8              8          2016  \n",
       "18             dummy_day            8              8          2016  \n",
       "19             dummy_day            8              8          2016  \n",
       "20             dummy_day            8              8          2016  \n",
       "21             dummy_day            8              8          2016  \n",
       "22             dummy_day            8              8          2016  \n",
       "23             dummy_day            8              8          2016  \n",
       "24             dummy_day            8              8          2016  \n",
       "25             dummy_day            8              8          2016  \n",
       "26             dummy_day            8              8          2016  \n",
       "27             dummy_day            8              8          2016  \n",
       "28             dummy_day            8              8          2016  \n",
       "29             dummy_day            8              8          2016  \n",
       "...                  ...          ...            ...           ...  \n",
       "295991           Tuesday            2              8          2016  \n",
       "295992           Tuesday            2              8          2016  \n",
       "295993           Tuesday            2              8          2016  \n",
       "295994           Tuesday            2              8          2016  \n",
       "295995           Tuesday            2              8          2016  \n",
       "295996           Tuesday            2              8          2016  \n",
       "295997           Tuesday            2              8          2016  \n",
       "295998           Tuesday            2              8          2016  \n",
       "295999           Tuesday            2              8          2016  \n",
       "296000           Tuesday            2              8          2016  \n",
       "296001           Tuesday            2              8          2016  \n",
       "296002           Tuesday            2              8          2016  \n",
       "296003           Tuesday            2              8          2016  \n",
       "296004           Tuesday            2              8          2016  \n",
       "296005           Tuesday            2              8          2016  \n",
       "296006           Tuesday            2              8          2016  \n",
       "296007           Tuesday            2              8          2016  \n",
       "296008           Tuesday            2              8          2016  \n",
       "296009           Tuesday            2              8          2016  \n",
       "296010           Tuesday            2              8          2016  \n",
       "296011           Tuesday            2              8          2016  \n",
       "296012           Tuesday            2              8          2016  \n",
       "296013           Tuesday            2              8          2016  \n",
       "296014           Tuesday            2              8          2016  \n",
       "296015           Tuesday            2              8          2016  \n",
       "296016           Tuesday            2              8          2016  \n",
       "296017           Tuesday            2              8          2016  \n",
       "296018           Tuesday            2              8          2016  \n",
       "296019           Tuesday            2              8          2016  \n",
       "296020           Tuesday            2              8          2016  \n",
       "\n",
       "[296021 rows x 8 columns]"
      ]
     },
     "execution_count": 35,
     "metadata": {},
     "output_type": "execute_result"
    }
   ],
   "source": [
    "poke[poke.columns[cols]]"
   ]
  },
  {
   "cell_type": "code",
   "execution_count": 36,
   "metadata": {
    "collapsed": false
   },
   "outputs": [],
   "source": [
    "cols=[]\n",
    "for col in poke.columns:\n",
    "    cols.append(col.startswith(\"sun\"))"
   ]
  },
  {
   "cell_type": "markdown",
   "metadata": {
    "collapsed": false
   },
   "source": [
    "poke[poke.columns[cols]].head(5)"
   ]
  },
  {
   "cell_type": "code",
   "execution_count": 55,
   "metadata": {
    "collapsed": true
   },
   "outputs": [],
   "source": [
    "poke_44=pd.read_csv(\"/Users/Shuxian/Documents/CSYE7200-Fall2016/predictemall/poke/poke_44.csv\",low_memory=False)"
   ]
  },
  {
   "cell_type": "code",
   "execution_count": 52,
   "metadata": {
    "collapsed": false
   },
   "outputs": [],
   "source": [
    "poke_46.drop(['sunriseMinutesSince','sunsetMinutesBefore'], inplace=True, axis=1)"
   ]
  },
  {
   "cell_type": "code",
   "execution_count": 54,
   "metadata": {
    "collapsed": false
   },
   "outputs": [],
   "source": [
    "poke_46.to_csv(\"/Users/Shuxian/Documents/CSYE7200-Fall2016/predictemall/poke/poke_44.csv\",index=False )"
   ]
  },
  {
   "cell_type": "code",
   "execution_count": 62,
   "metadata": {
    "collapsed": false
   },
   "outputs": [],
   "source": [
    "poke_44.drop(['class'],inplace=True,axis=1)"
   ]
  },
  {
   "cell_type": "code",
   "execution_count": 74,
   "metadata": {
    "collapsed": true
   },
   "outputs": [],
   "source": [
    "poke_43=pd.read_csv(\"/Users/Shuxian/Documents/CSYE7200-Fall2016/predictemall/poke/poke_43.csv\",header=0 )"
   ]
  },
  {
   "cell_type": "code",
   "execution_count": 75,
   "metadata": {
    "collapsed": false
   },
   "outputs": [
    {
     "data": {
      "text/html": [
       "<div>\n",
       "<table border=\"1\" class=\"dataframe\">\n",
       "  <thead>\n",
       "    <tr style=\"text-align: right;\">\n",
       "      <th></th>\n",
       "      <th>latitude</th>\n",
       "      <th>longitude</th>\n",
       "      <th>appearedTimeOfDay</th>\n",
       "      <th>appearedHour</th>\n",
       "      <th>appearedMinute</th>\n",
       "      <th>appearedDayOfWeek</th>\n",
       "      <th>appearedDay</th>\n",
       "      <th>terrainType</th>\n",
       "      <th>closeToWater</th>\n",
       "      <th>city</th>\n",
       "      <th>...</th>\n",
       "      <th>gymIn5000m</th>\n",
       "      <th>pokestopDistanceKm</th>\n",
       "      <th>pokestopIn100m</th>\n",
       "      <th>pokestopIn250m</th>\n",
       "      <th>pokestopIn500m</th>\n",
       "      <th>pokestopIn1000m</th>\n",
       "      <th>pokestopIn2500m</th>\n",
       "      <th>pokestopIn5000m</th>\n",
       "      <th>rarity</th>\n",
       "      <th>type</th>\n",
       "    </tr>\n",
       "  </thead>\n",
       "  <tbody>\n",
       "    <tr>\n",
       "      <th>0</th>\n",
       "      <td>53.602550</td>\n",
       "      <td>-113.444897</td>\n",
       "      <td>4</td>\n",
       "      <td>23</td>\n",
       "      <td>33</td>\n",
       "      <td>4</td>\n",
       "      <td>4</td>\n",
       "      <td>13</td>\n",
       "      <td>0</td>\n",
       "      <td>29</td>\n",
       "      <td>...</td>\n",
       "      <td>1</td>\n",
       "      <td>0.145302</td>\n",
       "      <td>0</td>\n",
       "      <td>1</td>\n",
       "      <td>1</td>\n",
       "      <td>1</td>\n",
       "      <td>1</td>\n",
       "      <td>1</td>\n",
       "      <td>0</td>\n",
       "      <td>10</td>\n",
       "    </tr>\n",
       "    <tr>\n",
       "      <th>1</th>\n",
       "      <td>42.324002</td>\n",
       "      <td>-71.578191</td>\n",
       "      <td>4</td>\n",
       "      <td>3</td>\n",
       "      <td>24</td>\n",
       "      <td>7</td>\n",
       "      <td>7</td>\n",
       "      <td>5</td>\n",
       "      <td>0</td>\n",
       "      <td>66</td>\n",
       "      <td>...</td>\n",
       "      <td>0</td>\n",
       "      <td>0.910346</td>\n",
       "      <td>0</td>\n",
       "      <td>0</td>\n",
       "      <td>0</td>\n",
       "      <td>1</td>\n",
       "      <td>1</td>\n",
       "      <td>1</td>\n",
       "      <td>0</td>\n",
       "      <td>10</td>\n",
       "    </tr>\n",
       "    <tr>\n",
       "      <th>2</th>\n",
       "      <td>-20.469650</td>\n",
       "      <td>-54.592661</td>\n",
       "      <td>2</td>\n",
       "      <td>16</td>\n",
       "      <td>41</td>\n",
       "      <td>4</td>\n",
       "      <td>4</td>\n",
       "      <td>13</td>\n",
       "      <td>0</td>\n",
       "      <td>52</td>\n",
       "      <td>...</td>\n",
       "      <td>1</td>\n",
       "      <td>0.362506</td>\n",
       "      <td>0</td>\n",
       "      <td>0</td>\n",
       "      <td>1</td>\n",
       "      <td>1</td>\n",
       "      <td>1</td>\n",
       "      <td>1</td>\n",
       "      <td>0</td>\n",
       "      <td>14</td>\n",
       "    </tr>\n",
       "    <tr>\n",
       "      <th>3</th>\n",
       "      <td>43.710060</td>\n",
       "      <td>-79.395080</td>\n",
       "      <td>4</td>\n",
       "      <td>23</td>\n",
       "      <td>9</td>\n",
       "      <td>5</td>\n",
       "      <td>5</td>\n",
       "      <td>13</td>\n",
       "      <td>1</td>\n",
       "      <td>89</td>\n",
       "      <td>...</td>\n",
       "      <td>1</td>\n",
       "      <td>0.111773</td>\n",
       "      <td>0</td>\n",
       "      <td>1</td>\n",
       "      <td>1</td>\n",
       "      <td>1</td>\n",
       "      <td>1</td>\n",
       "      <td>1</td>\n",
       "      <td>0</td>\n",
       "      <td>11</td>\n",
       "    </tr>\n",
       "    <tr>\n",
       "      <th>4</th>\n",
       "      <td>33.756573</td>\n",
       "      <td>-84.389152</td>\n",
       "      <td>4</td>\n",
       "      <td>0</td>\n",
       "      <td>1</td>\n",
       "      <td>6</td>\n",
       "      <td>6</td>\n",
       "      <td>13</td>\n",
       "      <td>0</td>\n",
       "      <td>66</td>\n",
       "      <td>...</td>\n",
       "      <td>1</td>\n",
       "      <td>0.031196</td>\n",
       "      <td>1</td>\n",
       "      <td>1</td>\n",
       "      <td>1</td>\n",
       "      <td>1</td>\n",
       "      <td>1</td>\n",
       "      <td>1</td>\n",
       "      <td>1</td>\n",
       "      <td>5</td>\n",
       "    </tr>\n",
       "  </tbody>\n",
       "</table>\n",
       "<p>5 rows × 43 columns</p>\n",
       "</div>"
      ],
      "text/plain": [
       "    latitude   longitude  appearedTimeOfDay  appearedHour  appearedMinute  \\\n",
       "0  53.602550 -113.444897                  4            23              33   \n",
       "1  42.324002  -71.578191                  4             3              24   \n",
       "2 -20.469650  -54.592661                  2            16              41   \n",
       "3  43.710060  -79.395080                  4            23               9   \n",
       "4  33.756573  -84.389152                  4             0               1   \n",
       "\n",
       "   appearedDayOfWeek  appearedDay  terrainType  closeToWater  city  ...   \\\n",
       "0                  4            4           13             0    29  ...    \n",
       "1                  7            7            5             0    66  ...    \n",
       "2                  4            4           13             0    52  ...    \n",
       "3                  5            5           13             1    89  ...    \n",
       "4                  6            6           13             0    66  ...    \n",
       "\n",
       "   gymIn5000m  pokestopDistanceKm  pokestopIn100m  pokestopIn250m  \\\n",
       "0           1            0.145302               0               1   \n",
       "1           0            0.910346               0               0   \n",
       "2           1            0.362506               0               0   \n",
       "3           1            0.111773               0               1   \n",
       "4           1            0.031196               1               1   \n",
       "\n",
       "   pokestopIn500m  pokestopIn1000m  pokestopIn2500m  pokestopIn5000m  rarity  \\\n",
       "0               1                1                1                1       0   \n",
       "1               0                1                1                1       0   \n",
       "2               1                1                1                1       0   \n",
       "3               1                1                1                1       0   \n",
       "4               1                1                1                1       1   \n",
       "\n",
       "   type  \n",
       "0    10  \n",
       "1    10  \n",
       "2    14  \n",
       "3    11  \n",
       "4     5  \n",
       "\n",
       "[5 rows x 43 columns]"
      ]
     },
     "execution_count": 75,
     "metadata": {},
     "output_type": "execute_result"
    }
   ],
   "source": [
    "poke_43.head()"
   ]
  },
  {
   "cell_type": "code",
   "execution_count": null,
   "metadata": {
    "collapsed": true
   },
   "outputs": [],
   "source": []
  }
 ],
 "metadata": {
  "anaconda-cloud": {},
  "kernelspec": {
   "display_name": "Python [conda root]",
   "language": "python",
   "name": "conda-root-py"
  },
  "language_info": {
   "codemirror_mode": {
    "name": "ipython",
    "version": 3
   },
   "file_extension": ".py",
   "mimetype": "text/x-python",
   "name": "python",
   "nbconvert_exporter": "python",
   "pygments_lexer": "ipython3",
   "version": "3.5.2"
  }
 },
 "nbformat": 4,
 "nbformat_minor": 0
}
